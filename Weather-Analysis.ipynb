{
    "cells": [
        {
            "metadata": {
                "collapsed": true
            },
            "cell_type": "markdown",
            "source": "|ID|Project Name|\n|---|---|\n|31823|Weather Analysis Project|"
        },
        {
            "metadata": {},
            "cell_type": "code",
            "source": "import numpy as np\nimport pandas as pd",
            "execution_count": 1,
            "outputs": []
        },
        {
            "metadata": {},
            "cell_type": "code",
            "source": "def get_data(size = 10_100):\n    data = pd.DataFrame()\n    data[\"age\"] = np.random.randint(0,100,size)\n    data[\"time_to_bed\"] = np.random.randint(0,9,size)\n    data[\"pct_sleeping\"] = np.random.rand(size)\n    data[\"favorite_food\"] = np.random.choice([\"fruit_juice\",\"fit_salad\",\"fish_chips\",\"mihlama\"],size)\n    data[\"fcking_food\"] = np.random.choice([\"candy\",\"sweety_snack\",\"popcorn\"],size)\n    return data",
            "execution_count": 8,
            "outputs": []
        },
        {
            "metadata": {},
            "cell_type": "code",
            "source": "my_dataset = get_data(10_500)",
            "execution_count": 9,
            "outputs": []
        },
        {
            "metadata": {},
            "cell_type": "code",
            "source": "my_dataset.describe()",
            "execution_count": 10,
            "outputs": [
                {
                    "output_type": "execute_result",
                    "execution_count": 10,
                    "data": {
                        "text/plain": "                age   time_to_bed  pct_sleeping\ncount  10500.000000  10500.000000  10500.000000\nmean      49.280476      4.068952      0.501917\nstd       29.073788      2.566834      0.288012\nmin        0.000000      0.000000      0.000013\n25%       24.000000      2.000000      0.254950\n50%       49.000000      4.000000      0.501861\n75%       75.000000      6.000000      0.751613\nmax       99.000000      8.000000      0.999989",
                        "text/html": "<div>\n<style scoped>\n    .dataframe tbody tr th:only-of-type {\n        vertical-align: middle;\n    }\n\n    .dataframe tbody tr th {\n        vertical-align: top;\n    }\n\n    .dataframe thead th {\n        text-align: right;\n    }\n</style>\n<table border=\"1\" class=\"dataframe\">\n  <thead>\n    <tr style=\"text-align: right;\">\n      <th></th>\n      <th>age</th>\n      <th>time_to_bed</th>\n      <th>pct_sleeping</th>\n    </tr>\n  </thead>\n  <tbody>\n    <tr>\n      <th>count</th>\n      <td>10500.000000</td>\n      <td>10500.000000</td>\n      <td>10500.000000</td>\n    </tr>\n    <tr>\n      <th>mean</th>\n      <td>49.280476</td>\n      <td>4.068952</td>\n      <td>0.501917</td>\n    </tr>\n    <tr>\n      <th>std</th>\n      <td>29.073788</td>\n      <td>2.566834</td>\n      <td>0.288012</td>\n    </tr>\n    <tr>\n      <th>min</th>\n      <td>0.000000</td>\n      <td>0.000000</td>\n      <td>0.000013</td>\n    </tr>\n    <tr>\n      <th>25%</th>\n      <td>24.000000</td>\n      <td>2.000000</td>\n      <td>0.254950</td>\n    </tr>\n    <tr>\n      <th>50%</th>\n      <td>49.000000</td>\n      <td>4.000000</td>\n      <td>0.501861</td>\n    </tr>\n    <tr>\n      <th>75%</th>\n      <td>75.000000</td>\n      <td>6.000000</td>\n      <td>0.751613</td>\n    </tr>\n    <tr>\n      <th>max</th>\n      <td>99.000000</td>\n      <td>8.000000</td>\n      <td>0.999989</td>\n    </tr>\n  </tbody>\n</table>\n</div>"
                    },
                    "metadata": {}
                }
            ]
        },
        {
            "metadata": {},
            "cell_type": "code",
            "source": "my_dataset.head()",
            "execution_count": 11,
            "outputs": [
                {
                    "output_type": "execute_result",
                    "execution_count": 11,
                    "data": {
                        "text/plain": "   age  time_to_bed  pct_sleeping favorite_food   fcking_food\n0   35            3      0.178707   fruit_juice         candy\n1   18            6      0.142430   fruit_juice  sweety_snack\n2   40            8      0.329629    fish_chips       popcorn\n3   34            5      0.916922       mihlama         candy\n4   41            6      0.821113    fish_chips  sweety_snack",
                        "text/html": "<div>\n<style scoped>\n    .dataframe tbody tr th:only-of-type {\n        vertical-align: middle;\n    }\n\n    .dataframe tbody tr th {\n        vertical-align: top;\n    }\n\n    .dataframe thead th {\n        text-align: right;\n    }\n</style>\n<table border=\"1\" class=\"dataframe\">\n  <thead>\n    <tr style=\"text-align: right;\">\n      <th></th>\n      <th>age</th>\n      <th>time_to_bed</th>\n      <th>pct_sleeping</th>\n      <th>favorite_food</th>\n      <th>fcking_food</th>\n    </tr>\n  </thead>\n  <tbody>\n    <tr>\n      <th>0</th>\n      <td>35</td>\n      <td>3</td>\n      <td>0.178707</td>\n      <td>fruit_juice</td>\n      <td>candy</td>\n    </tr>\n    <tr>\n      <th>1</th>\n      <td>18</td>\n      <td>6</td>\n      <td>0.142430</td>\n      <td>fruit_juice</td>\n      <td>sweety_snack</td>\n    </tr>\n    <tr>\n      <th>2</th>\n      <td>40</td>\n      <td>8</td>\n      <td>0.329629</td>\n      <td>fish_chips</td>\n      <td>popcorn</td>\n    </tr>\n    <tr>\n      <th>3</th>\n      <td>34</td>\n      <td>5</td>\n      <td>0.916922</td>\n      <td>mihlama</td>\n      <td>candy</td>\n    </tr>\n    <tr>\n      <th>4</th>\n      <td>41</td>\n      <td>6</td>\n      <td>0.821113</td>\n      <td>fish_chips</td>\n      <td>sweety_snack</td>\n    </tr>\n  </tbody>\n</table>\n</div>"
                    },
                    "metadata": {}
                }
            ]
        },
        {
            "metadata": {},
            "cell_type": "markdown",
            "source": "## The Problem\n* if they were in bed more than 5 hours AND they were sleeping more than %50, then we will give them favourite_food\n* otherwise, we will give them fcking_food\n* if they are over 90 years old give them favourite_food"
        },
        {
            "metadata": {},
            "cell_type": "code",
            "source": "def reward_calculate(row):\n    if(row[\"age\"]>=90):\n        return row[\"favorite_food\"]\n    if(row[\"time_to_bed\"] > 5) & (row[\"pct_sleeping\"]> 0.5):\n        return row[\"favorite_food\"]\n    return row[\"fcking_food\"]",
            "execution_count": 12,
            "outputs": []
        },
        {
            "metadata": {},
            "cell_type": "markdown",
            "source": "* <b>Level 1 - Loop</b>"
        },
        {
            "metadata": {},
            "cell_type": "code",
            "source": "%%timeit\nfor index, row in my_dataset.iterrows():\n    my_dataset.loc[index,\"reward\"] = reward_calculate(row)",
            "execution_count": 14,
            "outputs": [
                {
                    "output_type": "stream",
                    "text": "1.04 s \u00b1 6.34 ms per loop (mean \u00b1 std. dev. of 7 runs, 1 loop each)\n",
                    "name": "stdout"
                }
            ]
        },
        {
            "metadata": {},
            "cell_type": "markdown",
            "source": "* <b>Level 2 - Apply</b>"
        },
        {
            "metadata": {},
            "cell_type": "code",
            "source": "%%timeit\nmy_dataset[\"reward\"] = my_dataset.apply(reward_calculate, axis = 1)",
            "execution_count": 16,
            "outputs": [
                {
                    "output_type": "stream",
                    "text": "143 ms \u00b1 1.67 ms per loop (mean \u00b1 std. dev. of 7 runs, 10 loops each)\n",
                    "name": "stdout"
                }
            ]
        },
        {
            "metadata": {},
            "cell_type": "markdown",
            "source": "* <b>Vectorized Func</b>"
        },
        {
            "metadata": {},
            "cell_type": "code",
            "source": "%%timeit\nmy_dataset[\"reward\"] = my_dataset[\"fcking_food\"]\nmy_dataset.loc[(my_dataset[\"age\"]>=90) | ((my_dataset[\"time_to_bed\"]>5) & (my_dataset[\"pct_sleeping\"]>0.5)),\"reward\"] = my_dataset[\"favorite_food\"]",
            "execution_count": 17,
            "outputs": [
                {
                    "output_type": "stream",
                    "text": "1.06 ms \u00b1 6.52 \u00b5s per loop (mean \u00b1 std. dev. of 7 runs, 1,000 loops each)\n",
                    "name": "stdout"
                }
            ]
        },
        {
            "metadata": {},
            "cell_type": "markdown",
            "source": "* <b>Results on Plot</b>"
        },
        {
            "metadata": {},
            "cell_type": "code",
            "source": "\nresults = pd.DataFrame(\n    [\n        [\"loop\",1040000,933000],\n     [\"apply\",188000,8450],\n     [\"vectorized\",2600,0.000000116]\n    ],\n    columns= [\"type\",\"mean\",\"std\"]\n)",
            "execution_count": null,
            "outputs": []
        }
    ],
    "metadata": {
        "kernelspec": {
            "name": "python3",
            "display_name": "Python 3.10",
            "language": "python"
        },
        "language_info": {
            "name": "python",
            "version": "3.10.9",
            "mimetype": "text/x-python",
            "codemirror_mode": {
                "name": "ipython",
                "version": 3
            },
            "pygments_lexer": "ipython3",
            "nbconvert_exporter": "python",
            "file_extension": ".py"
        }
    },
    "nbformat": 4,
    "nbformat_minor": 1
}